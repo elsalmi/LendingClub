{
  "nbformat": 4,
  "nbformat_minor": 0,
  "metadata": {
    "colab": {
      "name": "index.ipynb",
      "version": "0.3.2",
      "provenance": [],
      "collapsed_sections": []
    },
    "kernelspec": {
      "display_name": "Python 3",
      "language": "python",
      "name": "python3"
    }
  },
  "cells": [
    {
      "metadata": {
        "id": "rUAW1BAF0n2V",
        "colab_type": "text"
      },
      "cell_type": "markdown",
      "source": [
        "## <img style=\"float: left; padding-right: 10px; width: 45px\" src=\"https://raw.githubusercontent.com/Harvard-IACS/2018-CS109A/master/content/styles/iacs.png\"> CS109A Introduction to Data Science"
      ]
    },
    {
      "metadata": {
        "id": "08FvcHoX0n2W",
        "colab_type": "text"
      },
      "cell_type": "markdown",
      "source": [
        "\n",
        "\n",
        "# Lending Club Investments Project: Overview\n",
        "\n",
        "<img style=\"float: right; padding-right: 10px; width: 50px\" src=\"https://i.imgur.com/2ptDvXd.png\">\n",
        "\n",
        "**Harvard University**<br/>\n",
        "**CSCI E-109A**<br/>\n",
        "**Fall 2018**<br/>\n",
        "\n",
        "**Group #47 Team Members**:<br/> \n",
        "Victor Chen<br/>\n",
        "Danielle Crumley<br/>\n",
        "Mohamed Elsalmi<br/>\n",
        "Hoon Kang<br/>\n",
        "\n",
        "\n",
        "<hr style=\"height:1.5pt\">"
      ]
    },
    {
      "metadata": {
        "id": "nAfmn_hM0n2Y",
        "colab_type": "text"
      },
      "cell_type": "markdown",
      "source": [
        "## <font color='maroon'>Background Information</font>\n",
        "\n",
        "The Lending Club is a peer-to-peer lending network for loans ranging from \\$1,000 to \\$40,000. The Lending Club provides a large amount of loan data online so that its investors can make their own informed investment decisions. This online data dates from 2007 to Q2 2018 and provides certain borrower demographic and credit history information, as well as loan-specific information (including the purpose of the loan, the amount requested and amount funded, the interest rate, and the loan grade assigned by the Lending Club)."
      ]
    },
    {
      "metadata": {
        "id": "Bobe4Ck10n2Z",
        "colab_type": "text"
      },
      "cell_type": "markdown",
      "source": [
        "## <font color='maroon'>Project Aim</font>\n",
        "\n",
        "The main aim of this project is to develop a model that will predict whether a Lending Club-approved loan will end up being fully paid or charged off. These predictions, of course, would be very useful to investors in determining whether or not to invest. We aim to develop a model that is both 1) accurate/effective in producing a useful prediction for investors and 2) non-discriminatory with regard to demographic features such as race and home address.\n",
        "\n",
        "We have chosen to include only completed loans in our model (i.e., none that are still in progress, whether current or in default, since we don’t know the final outcome of these loans).\n"
      ]
    },
    {
      "metadata": {
        "id": "mzmzztTV0n2c",
        "colab_type": "text"
      },
      "cell_type": "markdown",
      "source": [
        "## <font color='maroon'>Data</font>\n"
      ]
    },
    {
      "metadata": {
        "id": "JCsSlwJD0n2e",
        "colab_type": "text"
      },
      "cell_type": "markdown",
      "source": [
        "We used the aforementioned data that is available for download from the Lending Club website.\n",
        "\n",
        "Unfortunately, the Lending Club data for rejected loans is much more limited in scope: it includes only a few feature columns such as risk score, debt-to-income ratio, zip code, and length of employment. Since there is too much missing data, our final model will be built using only the data from the loans that were approved by the Lending Club.\n",
        "\n",
        "First, we downloaded all of the available data on funded loans, which dates from 2007 to Q3 of 2018. It includes 145 columns and over 2 million rows.  We did not use the lending club’s data on rejected loans, since these datasets have much less information for each borrower/loan. \n",
        "\n",
        "Note that we were not able to incorporate borrower FICO scores into our model, since the Lending club restricts access to this information to its approved investors. However, there are many other credit risk-related features in the data, including many variables that come from the credit report such as the number of delinquencies in the borrower’s credit file in the past 2 years, the average current balance on all accounts, and the total credit revolving balance. Additionally, the lending club assigns its own loan grade (and loan subgrade) based on the FICO score and other variables, and we do have access to the Lending Club’s loan grades."
      ]
    },
    {
      "metadata": {
        "id": "jXpDaYi50n2g",
        "colab_type": "text"
      },
      "cell_type": "markdown",
      "source": [
        "## <font color='maroon'>Methodology</font>\n",
        "\n"
      ]
    },
    {
      "metadata": {
        "id": "XAAcCCNt0n2j",
        "colab_type": "text"
      },
      "cell_type": "markdown",
      "source": [
        "## <font color='maroon'>Results</font>\n"
      ]
    },
    {
      "metadata": {
        "id": "BSgZE7eU0n2l",
        "colab_type": "text"
      },
      "cell_type": "markdown",
      "source": [
        "## <font color='maroon'>Sources</font>\n",
        "Data Source: The Lending Club, https://www.lendingclub.com/\n"
      ]
    },
    {
      "metadata": {
        "id": "_xPd2cre0n2n",
        "colab_type": "text"
      },
      "cell_type": "markdown",
      "source": [
        "## <font color='maroon'>Discussion</font>\n",
        "\n",
        "As Lending Club is a peer-to-peer lending platform, the investment approaches between investors are likely to vary with the intent and level of risk aversion of each investor. The only common thread between investors will most likely be the desire to maximize profits. However, bad loans that are never fully paid off equating to financial loss are unavoidable in this business.\n",
        "As such, for us to provide the best model for a given investor, the investor must first decide for themselves what an acceptable level of loss is. That means out of the total number of loans the investor funds, what percentage of those loans is the investor comfortable with being a charged off loan. A new investor may only willing to accept a 1% charged off rate while a veteran investor may know that it is still profitable even at a 10% charged off rate. \n",
        "This maximum threshold of loss will help us select the best model for the investor by first selecting only models that are within the acceptable level of loss and then selecting the model that maximizes the number of fully paid off funded loans (which acts as a proxy metric to overall profit). \n",
        "To mimic this process in our modeling, we will set the positive case in our target variable to be a fully paid off loan while the negative case will be set as a charged off loan. In this scenario, precision now represents the number of funded loans that are fully paid out of the total number of loans funded (funded loans that are fully paid + funded loans that are charged off). The investor’s accepted percentage of charged off loans is represented by 1 – precision. In our tests we will assume the investor is willing to take a 10% charged off loan rate. This means we will look for models that have a minimum precision of 0.90 and then maximize the true positive count (funded loans that are fully paid) as an attempt to maximize profit. \n",
        "\n",
        "\n",
        "\n",
        "We will use model probability scores to order and rank the list of recommended loans. The higher the probability of a loan being a fully paid loan, the higher on the list it will rank. It is unrealistic to expect that investors will have the capital to invest in all recommend loans. This means we care more about better model performance at higher probability values than we do about model performance near the default 0.50 threshold simply because the loans at higher probability values will have higher priority to be fulfilled first. In deciding our final model, we will move the threshold to higher values and compare performance. \n",
        "\n",
        "\n",
        "Further Work\n",
        "\tInvestors will be willing to accept differing levels of risk and loss. There may be an optimal percentage maximizing profit by combining in factors such as profit from fully paid loans, loss from charged off loans, differing loan amounts and interest rates, and opportunity cost.\n",
        "\n",
        "\n",
        "Probability calibrations?\n"
      ]
    },
    {
      "metadata": {
        "id": "IhZ_8gHN0n2q",
        "colab_type": "code",
        "colab": {}
      },
      "cell_type": "code",
      "source": [
        ""
      ],
      "execution_count": 0,
      "outputs": []
    }
  ]
}